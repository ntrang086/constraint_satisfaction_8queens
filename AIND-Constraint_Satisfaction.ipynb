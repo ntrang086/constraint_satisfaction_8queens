{
 "cells": [
  {
   "cell_type": "markdown",
   "metadata": {
    "deletable": true,
    "editable": true
   },
   "source": [
    "# Constraint Satisfaction Problems Lab\n",
    "\n",
    "## Introduction\n",
    "Constraint Satisfaction is a technique for solving problems by expressing limits on the values of each variable in the solution with mathematical constraints. For example, constraints in [the Sudoku project](https://github.com/ntrang086/sudoku_solver) are enforced implicitly by filtering the legal values for each box, and [the planning project](https://github.com/ntrang086/cargo_planning_search) represents constraints as arcs connecting nodes in the planning graph. In this project we will use [SymPy](http://www.sympy.org/en/index.html), a symbolic math library, to explicitly construct binary constraints and then use Backtracking to solve the N-queens problem (which is a generalization [8-queens problem](https://en.wikipedia.org/wiki/Eight_queens_puzzle)). Using symbolic constraints makes it easier to visualize and reason about the constraints (especially for debugging), but comes with a performance penalty. See the [Sympy_Intro notebook](Sympy_Intro.ipynb) in the same directory for example code on sympy.\n",
    "\n",
    "![8-queens puzzle solution](EightQueens.gif)\n",
    "\n",
    "Briefly, the 8-queens problem asks us to place 8 queens on a standard 8x8 chessboard such that none of the queens are in \"check\" (i.e., no two queens occupy the same row, column, or diagonal). The N-queens problem generalizes the puzzle to to any size square board.\n",
    "\n",
    "This project consists of three main steps:\n",
    "\n",
    "* [**Step 1**](#step1): Implement the NQueensCSP class to develop an efficient encoding of the N-queens problem and explicitly generate the constraints bounding the solution\n",
    "* [**Step 2**](#step2): Implement the search functions for recursive backtracking\n",
    "* [**Step 3**](#step3): Solve the N-queens problem\n",
    "\n",
    "The algorithms in this project are based on the [Artificial Intelligence: A Modern Approach](http://aima.cs.berkeley.edu/) (AIMA) book.\n",
    "\n",
    "First, let's import the libraries needed for the project."
   ]
  },
  {
   "cell_type": "code",
   "execution_count": 1,
   "metadata": {
    "collapsed": false,
    "deletable": true,
    "editable": true
   },
   "outputs": [],
   "source": [
    "import matplotlib as mpl\n",
    "import matplotlib.pyplot as plt\n",
    "\n",
    "from util import constraint, displayBoard\n",
    "from sympy import *\n",
    "from IPython.display import display\n",
    "init_printing()\n",
    "%matplotlib inline\n",
    "import copy"
   ]
  },
  {
   "cell_type": "markdown",
   "metadata": {
    "deletable": true,
    "editable": true
   },
   "source": [
    "## Step 1: Representing the N-Queens Problem <a class=\"anchor\" id=\"step1\"></a>\n",
    "There are many acceptable ways to represent the N-queens problem, but one convenient way is to recognize that one of the constraints (either the row or column constraint) can be enforced implicitly by the encoding.  If we represent a solution as an array with N elements, then each position in the array can represent a column of the board, and the value at each position can represent which row the queen is placed on.\n",
    "\n",
    "In this encoding, we only need a constraint to make sure that no two queens occupy the same row, and one to make sure that no two queens occupy the same diagonal.\n",
    "\n",
    "### Define Symbolic Expressions for the Problem Constraints\n",
    "Before implementing the board class, we need to construct the symbolic constraints that will be used in the CSP.  We will declare three symbolic terms and two generic constraint generators:\n",
    "- `diffRow` - generate constraints that return True if the two arguments do not match\n",
    "- `diffDiag` - generate constraints that return True if two arguments are not on the same diagonal\n",
    "\n",
    "Both generators should produce binary constraints (i.e., each should have two free symbols) once they're bound to specific variables in the CSP. For example, Eq((a + b), (b + c)) is not a binary constraint, but Eq((a + b), (b + c)).subs(b, 1) _is_ a binary constraint because one of the terms has been bound to a constant, so there are only two free variables remaining. "
   ]
  },
  {
   "cell_type": "code",
   "execution_count": 2,
   "metadata": {
    "collapsed": false,
    "deletable": true,
    "editable": true
   },
   "outputs": [],
   "source": [
    "# Declare symbolic variables for the constraint generators\n",
    "x1, x2, diff = symbols(\"x1, x2, diff\")\n",
    "\n",
    "# Define diffRow and diffDiag constraint generators\n",
    "diffRow = constraint(\"diffRow\", Ne(x1, x2))\n",
    "diffDiag = constraint(\"diffDiag\", Ne(abs(x1-x2), diff))"
   ]
  },
  {
   "cell_type": "code",
   "execution_count": 3,
   "metadata": {
    "collapsed": false,
    "deletable": true,
    "editable": true
   },
   "outputs": [
    {
     "name": "stdout",
     "output_type": "stream",
     "text": [
      "Passed all diffRow tests.\n",
      "Passed all diffDiag tests.\n"
     ]
    }
   ],
   "source": [
    "# Test diffRow and diffDiag\n",
    "_x = symbols(\"x:3\")\n",
    "\n",
    "# Generate a diffRow instance for testing\n",
    "diffRow_test = diffRow.subs({x1:_x[0], x2:_x[1]})\n",
    "\n",
    "assert(len(diffRow_test.free_symbols) == 2)\n",
    "assert(diffRow_test.subs({_x[0]: 0, _x[1]: 1}) == True)\n",
    "assert(diffRow_test.subs({_x[0]: 0, _x[1]: 0}) == False)\n",
    "assert(diffRow_test.subs({_x[0]: 0}) != False)  # partial assignment is not false\n",
    "print(\"Passed all diffRow tests.\")\n",
    "\n",
    "# Generate a diffDiag instance for testing. We can easily test whether queens in two columns are on\n",
    "# the same diagonal by testing if the difference in the number of rows and the number of columns match)\n",
    "diffDiag_test = diffDiag.subs({x1:_x[0], x2:_x[2], diff: 2})\n",
    "\n",
    "assert(len(diffDiag_test.free_symbols) == 2)\n",
    "assert(diffDiag_test.subs({_x[0]: 0, _x[2]: 2}) == False)\n",
    "assert(diffDiag_test.subs({_x[0]: 0, _x[2]: 0}) == True)\n",
    "assert(diffDiag_test.subs({_x[0]: 0}) != False)  # partial assignment is not false\n",
    "print(\"Passed all diffDiag tests.\")"
   ]
  },
  {
   "cell_type": "markdown",
   "metadata": {
    "deletable": true,
    "editable": true
   },
   "source": [
    "### The N-Queens CSP Class\n",
    "Implement the CSP class as described above, with constraints to make sure each queen is on a different row and different diagonal from every other queen, and a variable for each column defining the row containing a queen in that column."
   ]
  },
  {
   "cell_type": "code",
   "execution_count": 4,
   "metadata": {
    "collapsed": false,
    "deletable": true,
    "editable": true
   },
   "outputs": [],
   "source": [
    "class NQueensCSP:\n",
    "    \"\"\"CSP representation of the N-queens problem.\n",
    "    \n",
    "    Parameters:\n",
    "    N: Integer\n",
    "        The side length of a square chess board to use for the problem, and\n",
    "        the number of queens that must be placed on the board\n",
    "    \"\"\"\n",
    "    def __init__(self, N):\n",
    "        # Declare symbolic variables in the CSP constructor\"\n",
    "        _vars = symbols(\"col:\" + str(N))\n",
    "        _domain = set(range(N))\n",
    "        self.size = N\n",
    "        self.variables = _vars\n",
    "        self.domains = {v: set(_domain) for v in _vars}\n",
    "        self._constraints = {x: set() for x in _vars}\n",
    "\n",
    "        # Add constraints - for each pair of variables xi and xj, create\n",
    "        # a diffRow(xi, xj) and a diffDiag(xi, xj) instance, and add them\n",
    "        # to the self._constraints dictionary keyed to both xi and xj;\n",
    "        # (i.e., add them to both self._constraints[xi] and self._constraints[xj])\n",
    "        for i in range(self.size):\n",
    "            for j in range(i+1, self.size):\n",
    "                xi = self.variables[i]\n",
    "                xj = self.variables[j]\n",
    "                diffRow_xi_xj = diffRow.subs({x1: xi, x2: xj})\n",
    "                diffDiag_xi_xj = diffDiag.subs({x1: xi, x2: xj, diff: abs(i - j)})\n",
    "                self._constraints[xi].add(diffRow_xi_xj)\n",
    "                self._constraints[xi].add(diffDiag_xi_xj)\n",
    "                self._constraints[xj].add(diffRow_xi_xj)\n",
    "                self._constraints[xj].add(diffDiag_xi_xj)\n",
    "    \n",
    "    @property\n",
    "    def constraints(self):\n",
    "        \"\"\"Read-only list of constraints -- cannot be used for evaluation.\"\"\"\n",
    "        constraints = set()\n",
    "        for _cons in self._constraints.values():\n",
    "            constraints |= _cons\n",
    "        return list(constraints)\n",
    "    \n",
    "    def is_complete(self, assignment):\n",
    "        \"\"\"An assignment is complete if it is consistent, and all constraints\n",
    "        are satisfied. Backtracking search checks consistency of each assignment, \n",
    "        so checking for completeness can be done very efficiently by only checking \n",
    "        if the board has all N queens on it.\n",
    "        \n",
    "        Parameters:\n",
    "        assignment: dict(sympy.Symbol: Integer)\n",
    "            An assignment of values to variables that have previously been checked\n",
    "            for consistency with the CSP constraints\n",
    "        \n",
    "        Returns:\n",
    "        True if complete; False otherwise\n",
    "        \"\"\"\n",
    "        return (len(assignment) == self.size)\n",
    "    \n",
    "    def is_consistent(self, var, value, assignment):\n",
    "        \"\"\"Check consistency of a proposed variable assignment.\n",
    "        self._constraints[x] returns a set of constraints that involve variable `x`.\n",
    "        An assignment is consistent unless it causes a constraint to return False \n",
    "        (partial assignments are always consistent).\n",
    "        \n",
    "        Parameters:\n",
    "        var: sympy.Symbol\n",
    "            One of the symbolic variables in the CSP\n",
    "            \n",
    "        value: Numeric\n",
    "            A valid value (i.e., in the domain of) the variable `var` for assignment\n",
    "\n",
    "        assignment: dict(sympy.Symbol: Integer)\n",
    "            A dictionary mapping CSP variables to row assignment of each queen\n",
    "            \n",
    "        Returns:\n",
    "        True if consistent; False otherwise\n",
    "        \"\"\"\n",
    "        constraints = self._constraints[var]\n",
    "        assignment_copy = assignment.copy()\n",
    "        assignment_copy[var] = value\n",
    "        for constraint in constraints:\n",
    "            if not(constraint.subs(assignment_copy)):\n",
    "                return False\n",
    "        return True\n",
    "        \n",
    "    def inference(self, var, value):\n",
    "        \"\"\"Perform logical inference based on proposed variable assignment.\n",
    "        Check arc consistency for var when it's assigned with value. \n",
    "        Returns an empty dictionary by default; returning None signals \"failure\".\n",
    "        \n",
    "        Parameters:\n",
    "        var: sympy.Symbol\n",
    "            One of the symbolic variables in the CSP\n",
    "        \n",
    "        value: Integer\n",
    "            A valid value (i.e., in the domain of) the variable `var` for assignment\n",
    "            \n",
    "        Returns:\n",
    "        dict(sympy.Symbol: Integer) or None\n",
    "            A partial set of values mapped to variables in the CSP based on inferred\n",
    "            constraints from previous mappings, or None to indicate failure\n",
    "        \"\"\"        \n",
    "        inferences = {}\n",
    "        # Find all unassigned neighbors of var\n",
    "        neighbors = set([v for v in self.variables if v != var and len(self.domains[v]) != 1])\n",
    "        for neighbor in neighbors:\n",
    "            neighbor_domain = list(self.domains[neighbor])\n",
    "            # Go through all the values of the neighbor's domain, and remove any value that\n",
    "            # is not consistent with the assignment {var:value}\n",
    "            for val in neighbor_domain:\n",
    "                if not self.is_consistent(neighbor, val, {var:value, neighbor:val}):\n",
    "                    self.domains[neighbor].remove(val)\n",
    "            # If the domain is empty, no inference is made and return None\n",
    "            if len(self.domains[neighbor]) == 0:\n",
    "                return None\n",
    "            # If the domain has exactly 1 variable, add it to the inferences\n",
    "            elif len(self.domains[neighbor]) == 1:\n",
    "                inferences[neighbor] = list(self.domains[neighbor])[0]\n",
    "        return inferences\n",
    "    \n",
    "    def show(self, assignment):\n",
    "        \"\"\"Display a chessboard with queens drawn in the locations specified by an\n",
    "        assignment.\n",
    "        \n",
    "        Parameters:\n",
    "        assignment: dict(sympy.Symbol: Integer)\n",
    "            A dictionary mapping CSP variables to row assignment of each queen\n",
    "            \n",
    "        \"\"\"\n",
    "        locations = [(i, assignment[j]) for i, j in enumerate(self.variables)\n",
    "                     if assignment.get(j, None) is not None]\n",
    "        displayBoard(locations, self.size)"
   ]
  },
  {
   "cell_type": "markdown",
   "metadata": {
    "collapsed": true,
    "deletable": true,
    "editable": true
   },
   "source": [
    "## Step 2: Backtracking Search <a class=\"anchor\" id=\"step2\"></a>\n",
    "Implement the [backtracking search](https://github.com/aimacode/aima-pseudocode/blob/master/md/Backtracking-Search.md) algorithm and helper functions based on the AIMA text.  "
   ]
  },
  {
   "cell_type": "code",
   "execution_count": 5,
   "metadata": {
    "collapsed": false,
    "deletable": true,
    "editable": true
   },
   "outputs": [],
   "source": [
    "def select(csp, assignment):\n",
    "    \"\"\"Choose an unassigned variable in a constraint satisfaction problem \"\"\"\n",
    "    # Implement minimum-remaining-values heuristic, i.e. choosing the variable \n",
    "    # with the fewest \"legal\" values\n",
    "    sorted_variables = sorted(csp.domains.items(), key=lambda x: len(x[1]))\n",
    "    for var_value_pair in sorted_variables:\n",
    "        if var_value_pair[0] not in assignment:\n",
    "            return var_value_pair[0]\n",
    "    return None\n",
    "\n",
    "def order_values(var, assignment, csp):\n",
    "    \"\"\"Select the order of the values in the domain of a variable for checking during search;\n",
    "    the default is lexicographically.\n",
    "    \"\"\"\n",
    "    return csp.domains[var]\n",
    "\n",
    "def backtracking_search(csp):\n",
    "    \"\"\"Helper function used to initiate backtracking search \"\"\"\n",
    "    return backtrack({}, csp)\n",
    "\n",
    "def backtrack(assignment, csp):\n",
    "    \"\"\"Perform backtracking search for a valid assignment to a CSP\n",
    "    \n",
    "    Parameters:\n",
    "    assignment: dict(sympy.Symbol: Integer)\n",
    "        A partial set of values mapped to variables in the CSP\n",
    "        \n",
    "    csp: CSP\n",
    "        A problem encoded as a CSP. Interface should include csp.variables, csp.domains,\n",
    "        csp.inference(), csp.is_consistent(), and csp.is_complete().\n",
    "    \n",
    "    Returns:\n",
    "    dict(sympy.Symbol: Integer) or None\n",
    "        A partial set of values mapped to variables in the CSP, or None to indicate failure\n",
    "    \"\"\"\n",
    "    if csp.is_complete(assignment):\n",
    "        return assignment\n",
    "    var = select(csp, assignment)\n",
    "    \n",
    "    assignment_copy = assignment.copy()\n",
    "    domains_copy = copy.deepcopy(csp.domains)\n",
    "    inferences = {}\n",
    "    \n",
    "    for value in order_values(var, assignment, csp):\n",
    "        if csp.is_consistent(var, value, assignment):\n",
    "            assignment[var] = value\n",
    "            # Update the domain for var with value\n",
    "            csp.domains[var] = {value}\n",
    "            inferences = csp.inference(var, value)\n",
    "            if inferences != None:\n",
    "                for variable in inferences:\n",
    "                    if csp.is_consistent(variable, inferences[variable],assignment):\n",
    "                        assignment[variable] = inferences[variable]\n",
    "                    else: \n",
    "                        inferences = None\n",
    "                        break\n",
    "            if inferences != None: # e.g., {}, {col2: 1, col3: 2}, etc.\n",
    "                result = backtrack(assignment, csp)\n",
    "                if result:\n",
    "                    return result\n",
    "        assignment = assignment_copy.copy()\n",
    "        csp.domains = copy.deepcopy(domains_copy)\n",
    "    return None"
   ]
  },
  {
   "cell_type": "markdown",
   "metadata": {
    "deletable": true,
    "editable": true
   },
   "source": [
    "## Step 3: Solve the N-Queens CSP <a class=\"anchor\" id=\"step2\"></a>\n",
    "With backtracking implemented, now we can use it to solve instances of the problem. We can change `num_queens` to solve boards of other sizes. Boards larger than 12x12 may take some time to solve."
   ]
  },
  {
   "cell_type": "code",
   "execution_count": 6,
   "metadata": {
    "collapsed": false,
    "deletable": true,
    "editable": true,
    "scrolled": false
   },
   "outputs": [
    {
     "name": "stdout",
     "output_type": "stream",
     "text": [
      "CSP problems have variables, each variable has a domain, and the problem has a list of constraints.\n",
      "Showing the variables for the N-Queens CSP:\n"
     ]
    },
    {
     "data": {
      "image/png": "[encoded data removed]",
      "text/latex": [
       "$$\\left ( col_{0}, \\quad col_{1}, \\quad col_{2}, \\quad col_{3}, \\quad col_{4}, \\quad col_{5}, \\quad col_{6}, \\quad col_{7}\\right )$$"
      ],
      "text/plain": [
       "(col₀, col₁, col₂, col₃, col₄, col₅, col₆, col₇)"
      ]
     },
     "metadata": {},
     "output_type": "display_data"
    },
    {
     "name": "stdout",
     "output_type": "stream",
     "text": [
      "Showing domain for col0:\n"
     ]
    },
    {
     "data": {
      "image/png": "[encoded data removed]",
      "text/latex": [
       "$$\\left\\{0, 1, 2, 3, 4, 5, 6, 7\\right\\}$$"
      ],
      "text/plain": [
       "set([0, 1, 2, 3, 4, 5, 6, 7])"
      ]
     },
     "metadata": {},
     "output_type": "display_data"
    },
    {
     "name": "stdout",
     "output_type": "stream",
     "text": [
      "And showing the constraints for col0:\n"
     ]
    },
    {
     "data": {
      "image/png": "[encoded data removed]",
      "text/latex": [
       "$$\\left\\{\\operatorname{diffDiag}{\\left (col_{0},col_{1} \\right )}, \\operatorname{diffDiag}{\\left (col_{0},col_{3} \\right )}, \\operatorname{diffDiag}{\\left (col_{0},col_{4} \\right )}, \\operatorname{diffDiag}{\\left (col_{0},col_{5} \\right )}, \\operatorname{diffDiag}{\\left (col_{0},col_{6} \\right )}, \\operatorname{diffDiag}{\\left (col_{0},col_{7} \\right )}, \\operatorname{diffDiag}{\\left (col_{2},col_{0} \\right )}, \\operatorname{diffRow}{\\left (col_{0},col_{1} \\right )}, \\operatorname{diffRow}{\\left (col_{0},col_{3} \\right )}, \\operatorname{diffRow}{\\left (col_{0},col_{4} \\right )}, \\operatorname{diffRow}{\\left (col_{0},col_{5} \\right )}, \\operatorname{diffRow}{\\left (col_{0},col_{6} \\right )}, \\operatorname{diffRow}{\\left (col_{0},col_{7} \\right )}, \\operatorname{diffRow}{\\left (col_{2},col_{0} \\right )}\\right\\}$$"
      ],
      "text/plain": [
       "set([diffDiag(col₀, col₁), diffDiag(col₀, col₃), diffDiag(col₀, col₄), diffDia\n",
       "g(col₀, col₅), diffDiag(col₀, col₆), diffDiag(col₀, col₇), diffDiag(col₂, col₀\n",
       "), diffRow(col₀, col₁), diffRow(col₀, col₃), diffRow(col₀, col₄), diffRow(col₀\n",
       ", col₅), diffRow(col₀, col₆), diffRow(col₀, col₇), diffRow(col₂, col₀)])"
      ]
     },
     "metadata": {},
     "output_type": "display_data"
    },
    {
     "name": "stdout",
     "output_type": "stream",
     "text": [
      "Solving N-Queens CSP...\n",
      "Elasped time 3.4693192240001736\n"
     ]
    },
    {
     "data": {
      "image/png": "[encoded data removed]",
      "text/plain": [
       "<matplotlib.figure.Figure at 0x7f96a625fb70>"
      ]
     },
     "metadata": {},
     "output_type": "display_data"
    },
    {
     "name": "stdout",
     "output_type": "stream",
     "text": [
      "Solution found:\n",
      "{col0: 0, col1: 4, col2: 7, col3: 5, col6: 1, col4: 2, col5: 6, col7: 3}\n"
     ]
    }
   ],
   "source": [
    "import timeit\n",
    "num_queens = 8\n",
    "csp = NQueensCSP(num_queens)\n",
    "var = csp.variables[0]\n",
    "print(\"CSP problems have variables, each variable has a domain, and the problem has a list of constraints.\")\n",
    "print(\"Showing the variables for the N-Queens CSP:\")\n",
    "display(csp.variables)\n",
    "print(\"Showing domain for {}:\".format(var))\n",
    "display(csp.domains[var])\n",
    "print(\"And showing the constraints for {}:\".format(var))\n",
    "display(csp._constraints[var])\n",
    "\n",
    "print(\"Solving N-Queens CSP...\")\n",
    "start_time = timeit.default_timer()\n",
    "assn = backtracking_search(csp)\n",
    "elapsed = timeit.default_timer() - start_time\n",
    "print (\"Elasped time\", elapsed)\n",
    "if assn is not None:\n",
    "    csp.show(assn)\n",
    "    print(\"Solution found:\\n{!s}\".format(assn))\n",
    "else:\n",
    "    print(\"No solution found.\")"
   ]
  }
 ],
 "metadata": {
  "anaconda-cloud": {},
  "kernelspec": {
   "display_name": "Python 3",
   "language": "python",
   "name": "python3"
  },
  "language_info": {
   "codemirror_mode": {
    "name": "ipython",
    "version": 3
   },
   "file_extension": ".py",
   "mimetype": "text/x-python",
   "name": "python",
   "nbconvert_exporter": "python",
   "pygments_lexer": "ipython3",
   "version": "3.6.3"
  }
 },
 "nbformat": 4,
 "nbformat_minor": 1
}
