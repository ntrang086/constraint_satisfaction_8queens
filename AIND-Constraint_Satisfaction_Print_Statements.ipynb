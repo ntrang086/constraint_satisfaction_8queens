{
 "cells": [
  {
   "cell_type": "markdown",
   "metadata": {
    "deletable": true,
    "editable": true
   },
   "source": [
    "# Constraint Satisfaction Problems Lab\n",
    "\n",
    "## Introduction\n",
    "Constraint Satisfaction is a technique for solving problems by expressing limits on the values of each variable in the solution with mathematical constraints.  We've used constraints before -- constraints in the Sudoku project are enforced implicitly by filtering the legal values for each box, and the planning project represents constraints as arcs connecting nodes in the planning graph -- but in this lab exercise we will use a symbolic math library to explicitly construct binary constraints and then use Backtracking to solve the N-queens problem (which is a generalization [8-queens problem](https://en.wikipedia.org/wiki/Eight_queens_puzzle)).  Using symbolic constraints should make it easier to visualize and reason about the constraints (especially for debugging), but comes with a performance penalty.\n",
    "\n",
    "![8-queens puzzle solution](EightQueens.gif)\n",
    "\n",
    "Briefly, the 8-queens problem asks you to place 8 queens on a standard 8x8 chessboard such that none of the queens are in \"check\" (i.e., no two queens occupy the same row, column, or diagonal). The N-queens problem generalizes the puzzle to to any size square board.\n",
    "\n",
    "## I. Lab Overview\n",
    "Students should read through the code and the wikipedia page (or other resources) to understand the N-queens problem, then:\n",
    "\n",
    "0. Complete the warmup exercises in the [Sympy_Intro notebook](Sympy_Intro.ipynb) to become familiar with they sympy library and symbolic representation for constraints\n",
    "0. Implement the [NQueensCSP class](#II.-Representing-the-N-Queens-Problem) to develop an efficient encoding of the N-queens problem and explicitly generate the constraints bounding the solution\n",
    "0. Write the [search functions](#III.-Backtracking-Search) for recursive backtracking, and use them to solve the N-queens problem\n",
    "0. (Optional) Conduct [additional experiments](#IV.-Experiments-%28Optional%29) with CSPs and various modifications to the search order (minimum remaining values, least constraining value, etc.)"
   ]
  },
  {
   "cell_type": "code",
   "execution_count": 16,
   "metadata": {
    "collapsed": false,
    "deletable": true,
    "editable": true
   },
   "outputs": [],
   "source": [
    "import matplotlib as mpl\n",
    "import matplotlib.pyplot as plt\n",
    "\n",
    "from util import constraint, displayBoard\n",
    "from sympy import *\n",
    "from IPython.display import display\n",
    "init_printing()\n",
    "%matplotlib inline\n",
    "import copy"
   ]
  },
  {
   "cell_type": "markdown",
   "metadata": {
    "deletable": true,
    "editable": true
   },
   "source": [
    "## II. Representing the N-Queens Problem\n",
    "There are many acceptable ways to represent the N-queens problem, but one convenient way is to recognize that one of the constraints (either the row or column constraint) can be enforced implicitly by the encoding.  If we represent a solution as an array with N elements, then each position in the array can represent a column of the board, and the value at each position can represent which row the queen is placed on.\n",
    "\n",
    "In this encoding, we only need a constraint to make sure that no two queens occupy the same row, and one to make sure that no two queens occupy the same diagonal.\n",
    "\n",
    "### Define Symbolic Expressions for the Problem Constraints\n",
    "Before implementing the board class, we need to construct the symbolic constraints that will be used in the CSP.  Declare any symbolic terms required, and then declare two generic constraint generators:\n",
    "- `diffRow` - generate constraints that return True if the two arguments do not match\n",
    "- `diffDiag` - generate constraints that return True if two arguments are not on the same diagonal (Hint: you can easily test whether queens in two columns are on the same diagonal by testing if the difference in the number of rows and the number of columns match)\n",
    "\n",
    "Both generators should produce binary constraints (i.e., each should have two free symbols) once they're bound to specific variables in the CSP.  For example, Eq((a + b), (b + c)) is not a binary constraint, but Eq((a + b), (b + c)).subs(b, 1) _is_ a binary constraint because one of the terms has been bound to a constant, so there are only two free variables remaining. "
   ]
  },
  {
   "cell_type": "code",
   "execution_count": 17,
   "metadata": {
    "collapsed": false,
    "deletable": true,
    "editable": true
   },
   "outputs": [],
   "source": [
    "# Declare any required symbolic variables\n",
    "#raise NotImplementedError(\"TODO: declare symbolic variables for the constraint generators\")\n",
    "x1, x2, diff = symbols(\"x1, x2, diff\")\n",
    "\n",
    "# Define diffRow and diffDiag constraints\n",
    "#raise NotImplementedError(\"TODO: create the diffRow and diffDiag constraint generators\")\n",
    "diffRow = constraint(\"diffRow\", Ne(x1, x2))\n",
    "diffDiag = constraint(\"diffDiag\", Ne(abs(x1-x2), diff))"
   ]
  },
  {
   "cell_type": "code",
   "execution_count": 18,
   "metadata": {
    "collapsed": false,
    "deletable": true,
    "editable": true
   },
   "outputs": [
    {
     "name": "stdout",
     "output_type": "stream",
     "text": [
      "Passed all diffRow tests.\n",
      "Passed all diffDiag tests.\n"
     ]
    }
   ],
   "source": [
    "# Test diffRow and diffDiag\n",
    "_x = symbols(\"x:3\")\n",
    "\n",
    "# generate a diffRow instance for testing\n",
    "#raise NotImplementedError(\"TODO: use your diffRow constraint to generate a diffRow constraint for _x[0] and _x[1]\")\n",
    "diffRow_test = diffRow.subs({x1:_x[0], x2:_x[1]})\n",
    "\n",
    "assert(len(diffRow_test.free_symbols) == 2)\n",
    "assert(diffRow_test.subs({_x[0]: 0, _x[1]: 1}) == True)\n",
    "assert(diffRow_test.subs({_x[0]: 0, _x[1]: 0}) == False)\n",
    "assert(diffRow_test.subs({_x[0]: 0}) != False)  # partial assignment is not false\n",
    "print(\"Passed all diffRow tests.\")\n",
    "\n",
    "# generate a diffDiag instance for testing\n",
    "#raise NotImplementedError(\"TODO: use your diffDiag constraint to generate a diffDiag constraint for _x[0] and _x[2]\")\n",
    "diffDiag_test = diffDiag.subs({x1:_x[0], x2:_x[2], diff: 2})\n",
    "\n",
    "assert(len(diffDiag_test.free_symbols) == 2)\n",
    "assert(diffDiag_test.subs({_x[0]: 0, _x[2]: 2}) == False)\n",
    "assert(diffDiag_test.subs({_x[0]: 0, _x[2]: 0}) == True)\n",
    "assert(diffDiag_test.subs({_x[0]: 0}) != False)  # partial assignment is not false\n",
    "print(\"Passed all diffDiag tests.\")"
   ]
  },
  {
   "cell_type": "markdown",
   "metadata": {
    "deletable": true,
    "editable": true
   },
   "source": [
    "### The N-Queens CSP Class\n",
    "Implement the CSP class as described above, with constraints to make sure each queen is on a different row and different diagonal than every other queen, and a variable for each column defining the row that containing a queen in that column."
   ]
  },
  {
   "cell_type": "code",
   "execution_count": 19,
   "metadata": {
    "collapsed": false,
    "deletable": true,
    "editable": true
   },
   "outputs": [],
   "source": [
    "class NQueensCSP:\n",
    "    \"\"\"CSP representation of the N-queens problem\n",
    "    \n",
    "    Parameters\n",
    "    ----------\n",
    "    N : Integer\n",
    "        The side length of a square chess board to use for the problem, and\n",
    "        the number of queens that must be placed on the board\n",
    "    \"\"\"\n",
    "    def __init__(self, N):\n",
    "        #\"TODO: declare symbolic variables in self._vars in the CSP constructor\"\n",
    "        _vars = symbols(\"col:\" + str(N))\n",
    "        _domain = set(range(N))\n",
    "        self.size = N\n",
    "        self.variables = _vars\n",
    "        self.domains = {v: set(_domain) for v in _vars}\n",
    "        self._constraints = {x: set() for x in _vars}\n",
    "\n",
    "        # add constraints - for each pair of variables xi and xj, create\n",
    "        # a diffRow(xi, xj) and a diffDiag(xi, xj) instance, and add them\n",
    "        # to the self._constraints dictionary keyed to both xi and xj;\n",
    "        # (i.e., add them to both self._constraints[xi] and self._constraints[xj])\n",
    "        for i in range(self.size):\n",
    "            for j in range(i+1, self.size):\n",
    "                xi = self.variables[i]\n",
    "                xj = self.variables[j]\n",
    "                diffRow_xi_xj = diffRow.subs({x1: xi, x2: xj})\n",
    "                diffDiag_xi_xj = diffDiag.subs({x1: xi, x2: xj, diff: abs(i - j)})\n",
    "                self._constraints[xi].add(diffRow_xi_xj)\n",
    "                self._constraints[xi].add(diffDiag_xi_xj)\n",
    "                self._constraints[xj].add(diffRow_xi_xj)\n",
    "                self._constraints[xj].add(diffDiag_xi_xj)\n",
    "    \n",
    "    @property\n",
    "    def constraints(self):\n",
    "        \"\"\"Read-only list of constraints -- cannot be used for evaluation \"\"\"\n",
    "        constraints = set()\n",
    "        for _cons in self._constraints.values():\n",
    "            constraints |= _cons\n",
    "        return list(constraints)\n",
    "    \n",
    "    def is_complete(self, assignment):\n",
    "        \"\"\"An assignment is complete if it is consistent, and all constraints\n",
    "        are satisfied.\n",
    "        \n",
    "        Hint: Backtracking search checks consistency of each assignment, so checking\n",
    "        for completeness can be done very efficiently\n",
    "        \n",
    "        Parameters\n",
    "        ----------\n",
    "        assignment : dict(sympy.Symbol: Integer)\n",
    "            An assignment of values to variables that have previously been checked\n",
    "            for consistency with the CSP constraints\n",
    "        \"\"\"\n",
    "        #raise NotImplementedError(\"TODO: implement the is_complete() method of the CSP\")\n",
    "        return (len(assignment) == self.size)\n",
    "    \n",
    "    def is_consistent(self, var, value, assignment):\n",
    "        \"\"\"Check consistency of a proposed variable assignment\n",
    "                \n",
    "        self._constraints[x] returns a set of constraints that involve variable `x`.\n",
    "        An assignment is consistent unless it causes a constraint to return False \n",
    "        (partial assignments are always consistent).\n",
    "        \n",
    "        Parameters\n",
    "        ----------\n",
    "        var : sympy.Symbol\n",
    "            One of the symbolic variables in the CSP\n",
    "            \n",
    "        value : Numeric\n",
    "            A valid value (i.e., in the domain of) the variable `var` for assignment\n",
    "\n",
    "        assignment : dict(sympy.Symbol: Integer)\n",
    "            A dictionary mapping CSP variables to row assignment of each queen\n",
    "            \n",
    "        \"\"\"\n",
    "        constraints = self._constraints[var]\n",
    "        assignment_copy = assignment.copy()\n",
    "        assignment_copy[var] = value\n",
    "        for constraint in constraints:\n",
    "            if not(constraint.subs(assignment_copy)):\n",
    "                #print (assignment_copy)\n",
    "                return False\n",
    "        return True\n",
    "        \n",
    "        \n",
    "    def inference(self, var, value):\n",
    "        \"\"\"Perform logical inference based on proposed variable assignment\n",
    "        \n",
    "        Returns an empty dictionary by default; function can be overridden to\n",
    "        check arc-, path-, or k-consistency; returning None signals \"failure\".\n",
    "        \n",
    "        Parameters\n",
    "        ----------\n",
    "        var : sympy.Symbol\n",
    "            One of the symbolic variables in the CSP\n",
    "        \n",
    "        value : Integer\n",
    "            A valid value (i.e., in the domain of) the variable `var` for assignment\n",
    "            \n",
    "        Returns\n",
    "        -------\n",
    "        dict(sympy.Symbol: Integer) or None\n",
    "            A partial set of values mapped to variables in the CSP based on inferred\n",
    "            constraints from previous mappings, or None to indicate failure\n",
    "        \"\"\"\n",
    "        # TODO (Optional): Implement this function based on AIMA discussion\n",
    "        # Check arc consistency for var when it's assigned with value, using the \n",
    "        # Maintaining Arc Consistency (MAC) algorithm\n",
    "        \n",
    "        inferences = {}\n",
    "        # Find all unassigned neighbors of var\n",
    "        neighbors = set([v for v in self.variables if v != var and len(self.domains[v]) != 1])\n",
    "        print (\"var={}, value={}, neighbors={}  \".format(var, value, neighbors))\n",
    "        for neighbor in neighbors:\n",
    "            neighbor_domain = list(self.domains[neighbor])\n",
    "            # Go through all the values of the neighbor's domain, and remove any value that\n",
    "            # is not consistent with the assignment {var:value}\n",
    "            for val in neighbor_domain:\n",
    "                print (\"for val in neighbor_domain:  neighbor={}, neighbor_domain={}, val={}\".format(neighbor, self.domains[neighbor], val))\n",
    "                if not self.is_consistent(neighbor, val, {var:value, neighbor:val}):\n",
    "                    self.domains[neighbor].remove(val)\n",
    "                    print (\"self.domains[neighbor].remove(val={})\".format(val), self.domains[neighbor])\n",
    "            if len(self.domains[neighbor]) == 0:\n",
    "                print (\"len(self.domains[neighbor]) == 0: neighbor=\", neighbor)\n",
    "                return None\n",
    "            elif len(self.domains[neighbor]) == 1:\n",
    "                print (\"len(self.domains[neighbor]) == 1: neighbor={}, neighbor_domain={}\".format(neighbor, self.domains[neighbor]))\n",
    "                inferences[neighbor] = list(self.domains[neighbor])[0]\n",
    "                print (\"inferences\", inferences)\n",
    "        return inferences\n",
    "    \n",
    "    def show(self, assignment):\n",
    "        \"\"\"Display a chessboard with queens drawn in the locations specified by an\n",
    "        assignment\n",
    "        \n",
    "        Parameters\n",
    "        ----------\n",
    "        assignment : dict(sympy.Symbol: Integer)\n",
    "            A dictionary mapping CSP variables to row assignment of each queen\n",
    "            \n",
    "        \"\"\"\n",
    "        locations = [(i, assignment[j]) for i, j in enumerate(self.variables)\n",
    "                     if assignment.get(j, None) is not None]\n",
    "        displayBoard(locations, self.size)"
   ]
  },
  {
   "cell_type": "markdown",
   "metadata": {
    "collapsed": true,
    "deletable": true,
    "editable": true
   },
   "source": [
    "## III. Backtracking Search\n",
    "Implement the [backtracking search](https://github.com/aimacode/aima-pseudocode/blob/master/md/Backtracking-Search.md) algorithm (required) and helper functions (optional) from the AIMA text.  "
   ]
  },
  {
   "cell_type": "code",
   "execution_count": 20,
   "metadata": {
    "collapsed": false,
    "deletable": true,
    "editable": true
   },
   "outputs": [],
   "source": [
    "def select(csp, assignment):\n",
    "    \"\"\"Choose an unassigned variable in a constraint satisfaction problem \"\"\"\n",
    "    # TODO (Optional): Implement a more sophisticated selection routine from AIMA\n",
    "    # Implement minimum-remaining-values (MRV) heuristic, i.e. choosing the variable \n",
    "    # with the fewest \"legal\" values\n",
    "    sorted_variables = sorted(csp.domains.items(), key=lambda x: len(x[1]))\n",
    "    print (\"Sorted variables: \", sorted_variables)\n",
    "    for var_value_pair in sorted_variables:\n",
    "        if var_value_pair[0] not in assignment:\n",
    "            print (\"chosen variable: \", var_value_pair[0])\n",
    "            return var_value_pair[0]\n",
    "    return None\n",
    "\n",
    "def order_values(var, assignment, csp):\n",
    "    \"\"\"Select the order of the values in the domain of a variable for checking during search;\n",
    "    the default is lexicographically.\n",
    "    \"\"\"\n",
    "    # TODO (Optional): Implement a more sophisticated search ordering routine from AIMA\n",
    "    return csp.domains[var]\n",
    "\n",
    "def backtracking_search(csp):\n",
    "    \"\"\"Helper function used to initiate backtracking search \"\"\"\n",
    "    return backtrack({}, csp)\n",
    "\n",
    "def backtrack(assignment, csp):\n",
    "    \"\"\"Perform backtracking search for a valid assignment to a CSP\n",
    "    \n",
    "    Parameters\n",
    "    ----------\n",
    "    assignment : dict(sympy.Symbol: Integer)\n",
    "        A partial set of values mapped to variables in the CSP\n",
    "        \n",
    "    csp : CSP\n",
    "        A problem encoded as a CSP. Interface should include csp.variables, csp.domains,\n",
    "        csp.inference(), csp.is_consistent(), and csp.is_complete().\n",
    "    \n",
    "    Returns\n",
    "    -------\n",
    "    dict(sympy.Symbol: Integer) or None\n",
    "        A partial set of values mapped to variables in the CSP, or None to indicate failure\n",
    "    \"\"\"\n",
    "    #raise NotImplementedError(\"TODO: complete the backtrack function\")\n",
    "\n",
    "    if csp.is_complete(assignment):\n",
    "        return assignment\n",
    "    var = select(csp, assignment)\n",
    "    \n",
    "    assignment_copy = assignment.copy()\n",
    "    domains_copy = copy.deepcopy(csp.domains)\n",
    "    print (\"assignment_copy={}, domains_copy={}\".format(assignment_copy, domains_copy))\n",
    "    inferences = {}\n",
    "    \n",
    "    for value in order_values(var, assignment, csp):\n",
    "        print (\"for value in order_values   var={}, value={}, assignment={}\".format(var, value, assignment))\n",
    "        if csp.is_consistent(var, value, assignment):\n",
    "            print (\"CSP is consistent   var={}, value={}, assignment={}\".format(var, value, assignment))\n",
    "            assignment[var] = value\n",
    "            print (\"assignment[var] = value   var={}, value={}, assignment={}\".format(var, value, assignment))\n",
    "            # Update the domain for var with value\n",
    "            csp.domains[var] = {value}\n",
    "            print (\"csp.domains[var] = {value}   \", csp.domains[var])\n",
    "            print (\"start inferences = csp.inference(var, value)\")\n",
    "            inferences = csp.inference(var, value)\n",
    "            print (\"end inferences = csp.inference(var, value)   \", inferences)\n",
    "            if inferences != None:\n",
    "                print (\"inferences not none\", inferences)\n",
    "                for variable in inferences:\n",
    "                    print (\"for variable in inferences\", variable)\n",
    "                    if csp.is_consistent(variable, inferences[variable],assignment):\n",
    "                        assignment[variable] = inferences[variable]\n",
    "                        print (\"if csp.is_consistent --> assignment\", assignment, assignment_copy)\n",
    "                    else: \n",
    "                        inferences = None\n",
    "                        break\n",
    "            if inferences != None: # e.g., {}, {col2: 1, col3: 2}, etc.\n",
    "                if inferences == {}:\n",
    "                    print (\"Inferences == {} & start backtracking\")\n",
    "                else:\n",
    "                    print (\"Inferences == {} & start backtracking\".format(inferences))\n",
    "                result = backtrack(assignment, csp)\n",
    "                print (\"result = backtrack(assignment, csp)   var={}, value={}, assignment={}\".format(var, value, assignment), result)\n",
    "                if result:\n",
    "                    return result\n",
    "        assignment = assignment_copy.copy()\n",
    "        csp.domains = copy.deepcopy(domains_copy)\n",
    "        print (\"assignment{}, domains{}\".format(assignment, csp.domains))\n",
    "    return None"
   ]
  },
  {
   "cell_type": "markdown",
   "metadata": {
    "deletable": true,
    "editable": true
   },
   "source": [
    "### Solve the CSP\n",
    "With backtracking implemented, now you can use it to solve instances of the problem. We've started with the classical 8-queen version, but you can try other sizes as well.  Boards larger than 12x12 may take some time to solve because sympy is slow in the way its being used here, and because the selection and value ordering methods haven't been implemented.  See if you can implement any of the techniques in the AIMA text to speed up the solver!"
   ]
  },
  {
   "cell_type": "code",
   "execution_count": 21,
   "metadata": {
    "collapsed": false,
    "deletable": true,
    "editable": true,
    "scrolled": false
   },
   "outputs": [
    {
     "name": "stdout",
     "output_type": "stream",
     "text": [
      "CSP problems have variables, each variable has a domain, and the problem has a list of constraints.\n",
      "Showing the variables for the N-Queens CSP:\n"
     ]
    },
    {
     "data": {
      "image/png": "[encoded data removed]",
      "text/latex": [
       "$$\\left ( col_{0}, \\quad col_{1}, \\quad col_{2}, \\quad col_{3}\\right )$$"
      ],
      "text/plain": [
       "(col₀, col₁, col₂, col₃)"
      ]
     },
     "metadata": {},
     "output_type": "display_data"
    },
    {
     "name": "stdout",
     "output_type": "stream",
     "text": [
      "Showing domain for col0:\n"
     ]
    },
    {
     "data": {
      "image/png": "[encoded data removed]",
      "text/latex": [
       "$$\\left\\{0, 1, 2, 3\\right\\}$$"
      ],
      "text/plain": [
       "set([0, 1, 2, 3])"
      ]
     },
     "metadata": {},
     "output_type": "display_data"
    },
    {
     "name": "stdout",
     "output_type": "stream",
     "text": [
      "And showing the constraints for col0:\n"
     ]
    },
    {
     "data": {
      "image/png": "[encoded data removed]",
      "text/latex": [
       "$$\\left\\{\\operatorname{diffDiag}{\\left (col_{1},col_{0} \\right )}, \\operatorname{diffDiag}{\\left (col_{2},col_{0} \\right )}, \\operatorname{diffDiag}{\\left (col_{3},col_{0} \\right )}, \\operatorname{diffRow}{\\left (col_{1},col_{0} \\right )}, \\operatorname{diffRow}{\\left (col_{2},col_{0} \\right )}, \\operatorname{diffRow}{\\left (col_{3},col_{0} \\right )}\\right\\}$$"
      ],
      "text/plain": [
       "set([diffDiag(col₁, col₀), diffDiag(col₂, col₀), diffDiag(col₃, col₀), diffRow\n",
       "(col₁, col₀), diffRow(col₂, col₀), diffRow(col₃, col₀)])"
      ]
     },
     "metadata": {},
     "output_type": "display_data"
    },
    {
     "name": "stdout",
     "output_type": "stream",
     "text": [
      "Solving N-Queens CSP...\n",
      "Sorted variables:  [(col0, {0, 1, 2, 3}), (col1, {0, 1, 2, 3}), (col2, {0, 1, 2, 3}), (col3, {0, 1, 2, 3})]\n",
      "chosen variable:  col0\n",
      "assignment_copy={}, domains_copy={col0: {0, 1, 2, 3}, col1: {0, 1, 2, 3}, col2: {0, 1, 2, 3}, col3: {0, 1, 2, 3}}\n",
      "for value in order_values   var=col0, value=0, assignment={}\n",
      "CSP is consistent   var=col0, value=0, assignment={}\n",
      "assignment[var] = value   var=col0, value=0, assignment={col0: 0}\n",
      "csp.domains[var] = {value}    {0}\n",
      "start inferences = csp.inference(var, value)\n",
      "var=col0, value=0, neighbors={col3, col2, col1}  \n",
      "for val in neighbor_domain:  neighbor=col3, neighbor_domain={0, 1, 2, 3}, val=0\n",
      "self.domains[neighbor].remove(val=0) {1, 2, 3}\n",
      "for val in neighbor_domain:  neighbor=col3, neighbor_domain={1, 2, 3}, val=1\n",
      "for val in neighbor_domain:  neighbor=col3, neighbor_domain={1, 2, 3}, val=2\n",
      "for val in neighbor_domain:  neighbor=col3, neighbor_domain={1, 2, 3}, val=3\n",
      "self.domains[neighbor].remove(val=3) {1, 2}\n",
      "for val in neighbor_domain:  neighbor=col2, neighbor_domain={0, 1, 2, 3}, val=0\n",
      "self.domains[neighbor].remove(val=0) {1, 2, 3}\n",
      "for val in neighbor_domain:  neighbor=col2, neighbor_domain={1, 2, 3}, val=1\n",
      "for val in neighbor_domain:  neighbor=col2, neighbor_domain={1, 2, 3}, val=2\n",
      "self.domains[neighbor].remove(val=2) {1, 3}\n",
      "for val in neighbor_domain:  neighbor=col2, neighbor_domain={1, 3}, val=3\n",
      "for val in neighbor_domain:  neighbor=col1, neighbor_domain={0, 1, 2, 3}, val=0\n",
      "self.domains[neighbor].remove(val=0) {1, 2, 3}\n",
      "for val in neighbor_domain:  neighbor=col1, neighbor_domain={1, 2, 3}, val=1\n",
      "self.domains[neighbor].remove(val=1) {2, 3}\n",
      "for val in neighbor_domain:  neighbor=col1, neighbor_domain={2, 3}, val=2\n",
      "for val in neighbor_domain:  neighbor=col1, neighbor_domain={2, 3}, val=3\n",
      "end inferences = csp.inference(var, value)    {}\n",
      "inferences not none {}\n",
      "Inferences == {} & start backtracking\n",
      "Sorted variables:  [(col0, {0}), (col1, {2, 3}), (col2, {1, 3}), (col3, {1, 2})]\n",
      "chosen variable:  col1\n",
      "assignment_copy={col0: 0}, domains_copy={col0: {0}, col1: {2, 3}, col2: {1, 3}, col3: {1, 2}}\n",
      "for value in order_values   var=col1, value=2, assignment={col0: 0}\n",
      "CSP is consistent   var=col1, value=2, assignment={col0: 0}\n",
      "assignment[var] = value   var=col1, value=2, assignment={col0: 0, col1: 2}\n",
      "csp.domains[var] = {value}    {2}\n",
      "start inferences = csp.inference(var, value)\n",
      "var=col1, value=2, neighbors={col3, col2}  \n",
      "for val in neighbor_domain:  neighbor=col3, neighbor_domain={1, 2}, val=1\n",
      "for val in neighbor_domain:  neighbor=col3, neighbor_domain={1, 2}, val=2\n",
      "self.domains[neighbor].remove(val=2) {1}\n",
      "len(self.domains[neighbor]) == 1: neighbor=col3, neighbor_domain={1}\n",
      "inferences {col3: 1}\n",
      "for val in neighbor_domain:  neighbor=col2, neighbor_domain={1, 3}, val=1\n",
      "self.domains[neighbor].remove(val=1) {3}\n",
      "for val in neighbor_domain:  neighbor=col2, neighbor_domain={3}, val=3\n",
      "self.domains[neighbor].remove(val=3) set()\n",
      "len(self.domains[neighbor]) == 0: neighbor= col2\n",
      "end inferences = csp.inference(var, value)    None\n",
      "assignment{col0: 0}, domains{col0: {0}, col1: {2, 3}, col2: {1, 3}, col3: {1, 2}}\n",
      "for value in order_values   var=col1, value=3, assignment={col0: 0}\n",
      "CSP is consistent   var=col1, value=3, assignment={col0: 0}\n",
      "assignment[var] = value   var=col1, value=3, assignment={col0: 0, col1: 3}\n",
      "csp.domains[var] = {value}    {3}\n",
      "start inferences = csp.inference(var, value)\n",
      "var=col1, value=3, neighbors={col3, col2}  \n",
      "for val in neighbor_domain:  neighbor=col3, neighbor_domain={1, 2}, val=1\n",
      "self.domains[neighbor].remove(val=1) {2}\n",
      "for val in neighbor_domain:  neighbor=col3, neighbor_domain={2}, val=2\n",
      "len(self.domains[neighbor]) == 1: neighbor=col3, neighbor_domain={2}\n",
      "inferences {col3: 2}\n",
      "for val in neighbor_domain:  neighbor=col2, neighbor_domain={1, 3}, val=1\n",
      "for val in neighbor_domain:  neighbor=col2, neighbor_domain={1, 3}, val=3\n",
      "self.domains[neighbor].remove(val=3) {1}\n",
      "len(self.domains[neighbor]) == 1: neighbor=col2, neighbor_domain={1}\n",
      "inferences {col3: 2, col2: 1}\n",
      "end inferences = csp.inference(var, value)    {col3: 2, col2: 1}\n",
      "inferences not none {col3: 2, col2: 1}\n",
      "for variable in inferences col3\n",
      "if csp.is_consistent --> assignment {col0: 0, col1: 3, col3: 2} {col0: 0}\n",
      "for variable in inferences col2\n",
      "assignment{col0: 0}, domains{col0: {0}, col1: {2, 3}, col2: {1, 3}, col3: {1, 2}}\n",
      "result = backtrack(assignment, csp)   var=col0, value=0, assignment={col0: 0, col1: 2} None\n",
      "assignment{}, domains{col0: {0, 1, 2, 3}, col1: {0, 1, 2, 3}, col2: {0, 1, 2, 3}, col3: {0, 1, 2, 3}}\n",
      "for value in order_values   var=col0, value=1, assignment={}\n",
      "CSP is consistent   var=col0, value=1, assignment={}\n",
      "assignment[var] = value   var=col0, value=1, assignment={col0: 1}\n",
      "csp.domains[var] = {value}    {1}\n",
      "start inferences = csp.inference(var, value)\n",
      "var=col0, value=1, neighbors={col3, col2, col1}  \n",
      "for val in neighbor_domain:  neighbor=col3, neighbor_domain={0, 1, 2, 3}, val=0\n",
      "for val in neighbor_domain:  neighbor=col3, neighbor_domain={0, 1, 2, 3}, val=1\n",
      "self.domains[neighbor].remove(val=1) {0, 2, 3}\n",
      "for val in neighbor_domain:  neighbor=col3, neighbor_domain={0, 2, 3}, val=2\n",
      "for val in neighbor_domain:  neighbor=col3, neighbor_domain={0, 2, 3}, val=3\n",
      "for val in neighbor_domain:  neighbor=col2, neighbor_domain={0, 1, 2, 3}, val=0\n",
      "for val in neighbor_domain:  neighbor=col2, neighbor_domain={0, 1, 2, 3}, val=1\n",
      "self.domains[neighbor].remove(val=1) {0, 2, 3}\n",
      "for val in neighbor_domain:  neighbor=col2, neighbor_domain={0, 2, 3}, val=2\n",
      "for val in neighbor_domain:  neighbor=col2, neighbor_domain={0, 2, 3}, val=3\n",
      "self.domains[neighbor].remove(val=3) {0, 2}\n",
      "for val in neighbor_domain:  neighbor=col1, neighbor_domain={0, 1, 2, 3}, val=0\n",
      "self.domains[neighbor].remove(val=0) {1, 2, 3}\n",
      "for val in neighbor_domain:  neighbor=col1, neighbor_domain={1, 2, 3}, val=1\n",
      "self.domains[neighbor].remove(val=1) {2, 3}\n",
      "for val in neighbor_domain:  neighbor=col1, neighbor_domain={2, 3}, val=2\n",
      "self.domains[neighbor].remove(val=2) {3}\n",
      "for val in neighbor_domain:  neighbor=col1, neighbor_domain={3}, val=3\n",
      "len(self.domains[neighbor]) == 1: neighbor=col1, neighbor_domain={3}\n",
      "inferences {col1: 3}\n",
      "end inferences = csp.inference(var, value)    {col1: 3}\n",
      "inferences not none {col1: 3}\n",
      "for variable in inferences col1\n",
      "if csp.is_consistent --> assignment {col0: 1, col1: 3} {}\n",
      "Inferences == {col1: 3} & start backtracking\n",
      "Sorted variables:  [(col0, {1}), (col1, {3}), (col2, {0, 2}), (col3, {0, 2, 3})]\n",
      "chosen variable:  col2\n",
      "assignment_copy={col0: 1, col1: 3}, domains_copy={col0: {1}, col1: {3}, col2: {0, 2}, col3: {0, 2, 3}}\n",
      "for value in order_values   var=col2, value=0, assignment={col0: 1, col1: 3}\n",
      "CSP is consistent   var=col2, value=0, assignment={col0: 1, col1: 3}\n",
      "assignment[var] = value   var=col2, value=0, assignment={col0: 1, col1: 3, col2: 0}\n",
      "csp.domains[var] = {value}    {0}\n",
      "start inferences = csp.inference(var, value)\n",
      "var=col2, value=0, neighbors={col3}  \n",
      "for val in neighbor_domain:  neighbor=col3, neighbor_domain={0, 2, 3}, val=0\n",
      "self.domains[neighbor].remove(val=0) {2, 3}\n",
      "for val in neighbor_domain:  neighbor=col3, neighbor_domain={2, 3}, val=2\n",
      "for val in neighbor_domain:  neighbor=col3, neighbor_domain={2, 3}, val=3\n",
      "end inferences = csp.inference(var, value)    {}\n",
      "inferences not none {}\n",
      "Inferences == {} & start backtracking\n",
      "Sorted variables:  [(col0, {1}), (col1, {3}), (col2, {0}), (col3, {2, 3})]\n",
      "chosen variable:  col3\n",
      "assignment_copy={col0: 1, col1: 3, col2: 0}, domains_copy={col0: {1}, col1: {3}, col2: {0}, col3: {2, 3}}\n",
      "for value in order_values   var=col3, value=2, assignment={col0: 1, col1: 3, col2: 0}\n",
      "CSP is consistent   var=col3, value=2, assignment={col0: 1, col1: 3, col2: 0}\n",
      "assignment[var] = value   var=col3, value=2, assignment={col0: 1, col1: 3, col2: 0, col3: 2}\n",
      "csp.domains[var] = {value}    {2}\n",
      "start inferences = csp.inference(var, value)\n",
      "var=col3, value=2, neighbors=set()  \n",
      "end inferences = csp.inference(var, value)    {}\n",
      "inferences not none {}\n",
      "Inferences == {} & start backtracking\n",
      "result = backtrack(assignment, csp)   var=col3, value=2, assignment={col0: 1, col1: 3, col2: 0, col3: 2} {col0: 1, col1: 3, col2: 0, col3: 2}\n",
      "result = backtrack(assignment, csp)   var=col2, value=0, assignment={col0: 1, col1: 3, col2: 0, col3: 2} {col0: 1, col1: 3, col2: 0, col3: 2}\n",
      "result = backtrack(assignment, csp)   var=col0, value=1, assignment={col0: 1, col1: 3, col2: 0, col3: 2} {col0: 1, col1: 3, col2: 0, col3: 2}\n"
     ]
    },
    {
     "data": {
      "image/png": "[encoded data removed]",
      "text/plain": [
       "<matplotlib.figure.Figure at 0x7f2572a0b9b0>"
      ]
     },
     "metadata": {},
     "output_type": "display_data"
    },
    {
     "name": "stdout",
     "output_type": "stream",
     "text": [
      "Solution found:\n",
      "{col0: 1, col1: 3, col2: 0, col3: 2}\n"
     ]
    }
   ],
   "source": [
    "num_queens = 4\n",
    "csp = NQueensCSP(num_queens)\n",
    "var = csp.variables[0]\n",
    "print(\"CSP problems have variables, each variable has a domain, and the problem has a list of constraints.\")\n",
    "print(\"Showing the variables for the N-Queens CSP:\")\n",
    "display(csp.variables)\n",
    "print(\"Showing domain for {}:\".format(var))\n",
    "display(csp.domains[var])\n",
    "print(\"And showing the constraints for {}:\".format(var))\n",
    "display(csp._constraints[var])\n",
    "\n",
    "print(\"Solving N-Queens CSP...\")\n",
    "assn = backtracking_search(csp)\n",
    "if assn is not None:\n",
    "    csp.show(assn)\n",
    "    print(\"Solution found:\\n{!s}\".format(assn))\n",
    "else:\n",
    "    print(\"No solution found.\")"
   ]
  },
  {
   "cell_type": "markdown",
   "metadata": {
    "deletable": true,
    "editable": true
   },
   "source": [
    "## IV. Experiments (Optional)\n",
    "For each optional experiment, discuss the answers to these questions on the forum: Do you expect this change to be more efficient, less efficient, or the same?  Why or why not?  Is your prediction correct?  What metric did you compare (e.g., time, space, nodes visited, etc.)?\n",
    "\n",
    "- Implement a _bad_ N-queens solver: generate & test candidate solutions one at a time until a valid solution is found.  For example, represent the board as an array with $N^2$ elements, and let each element be True if there is a queen in that box, and False if it is empty.  Use an $N^2$-bit counter to generate solutions, then write a function to check if each solution is valid.  Notice that this solution doesn't require any of the techniques we've applied to other problems -- there is no DFS or backtracking, nor constraint propagation, or even explicitly defined variables.\n",
    "- Use more complex constraints -- i.e., generalize the binary constraint RowDiff to an N-ary constraint AllRowsDiff, etc., -- and solve the problem again.\n",
    "- Rewrite the CSP class to use forward checking to restrict the domain of each variable as new values are assigned.\n",
    "- The sympy library isn't very fast, so this version of the CSP doesn't work well on boards bigger than about 12x12.  Write a new representation of the problem class that uses constraint functions (like the Sudoku project) to implicitly track constraint satisfaction through the restricted domain of each variable.  How much larger can you solve?\n",
    "- Create your own CSP!"
   ]
  }
 ],
 "metadata": {
  "anaconda-cloud": {},
  "kernelspec": {
   "display_name": "Python 3",
   "language": "python",
   "name": "python3"
  },
  "language_info": {
   "codemirror_mode": {
    "name": "ipython",
    "version": 3
   },
   "file_extension": ".py",
   "mimetype": "text/x-python",
   "name": "python",
   "nbconvert_exporter": "python",
   "pygments_lexer": "ipython3",
   "version": "3.6.0"
  }
 },
 "nbformat": 4,
 "nbformat_minor": 1
}
